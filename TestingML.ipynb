{
 "cells": [
  {
   "cell_type": "markdown",
   "id": "aa5bde04",
   "metadata": {},
   "source": [
    "Random Forest and Linear Regression"
   ]
  },
  {
   "cell_type": "code",
   "execution_count": 129,
   "id": "5d42a700",
   "metadata": {},
   "outputs": [],
   "source": [
    "import pyspark\n",
    "import findspark\n",
    "from __future__ import print_function\n",
    "from pyspark.sql import SparkSession\n",
    "from pyspark.ml.feature import VectorAssembler, VectorIndexer, StandardScaler\n",
    "from pyspark.ml.regression import LinearRegression, RandomForestRegressor\n",
    "from pyspark.mllib.evaluation import BinaryClassificationMetrics\n",
    "from pyspark.ml.evaluation import MulticlassClassificationEvaluator\n",
    "from pyspark.ml.classification import LogisticRegression\n",
    "from pyspark.ml.classification import RandomForestClassifier\n",
    "from pyspark.ml.classification import NaiveBayes\n",
    "from pyspark.ml.classification import GBTClassifier\n",
    "from pyspark.ml.evaluation import RegressionEvaluator\n",
    "from pyspark.sql.functions import col, count, isnan, when"
   ]
  },
  {
   "cell_type": "code",
   "execution_count": 50,
   "id": "ea242946",
   "metadata": {},
   "outputs": [
    {
     "data": {
      "text/plain": [
       "'C:\\\\Users\\\\gamsi\\\\Documents\\\\Spark'"
      ]
     },
     "execution_count": 50,
     "metadata": {},
     "output_type": "execute_result"
    }
   ],
   "source": [
    "findspark.init()\n",
    "findspark.find()"
   ]
  },
  {
   "cell_type": "code",
   "execution_count": 51,
   "id": "4a717cee",
   "metadata": {},
   "outputs": [],
   "source": [
    "spark = SparkSession.builder.appName(\"ML Testing\").getOrCreate()"
   ]
  },
  {
   "cell_type": "code",
   "execution_count": 52,
   "id": "386b3757",
   "metadata": {},
   "outputs": [],
   "source": [
    "df = spark.read.csv(\"recruitment.csv\", header = True)"
   ]
  },
  {
   "cell_type": "code",
   "execution_count": 53,
   "id": "ffa808e0",
   "metadata": {},
   "outputs": [
    {
     "data": {
      "text/plain": [
       "pyspark.sql.dataframe.DataFrame"
      ]
     },
     "execution_count": 53,
     "metadata": {},
     "output_type": "execute_result"
    }
   ],
   "source": [
    "type(df)"
   ]
  },
  {
   "cell_type": "code",
   "execution_count": 54,
   "id": "70a735e8",
   "metadata": {},
   "outputs": [
    {
     "name": "stdout",
     "output_type": "stream",
     "text": [
      "root\n",
      " |-- GRE Score: string (nullable = true)\n",
      " |-- TOEFL Score: string (nullable = true)\n",
      " |-- University Rating: string (nullable = true)\n",
      " |-- SOP: string (nullable = true)\n",
      " |-- LOR: string (nullable = true)\n",
      " |-- CGPA: string (nullable = true)\n",
      " |-- Research: string (nullable = true)\n",
      " |-- Chance of Admit: string (nullable = true)\n",
      "\n"
     ]
    }
   ],
   "source": [
    "df.printSchema()"
   ]
  },
  {
   "cell_type": "code",
   "execution_count": 55,
   "id": "9a9be20d",
   "metadata": {},
   "outputs": [
    {
     "name": "stdout",
     "output_type": "stream",
     "text": [
      "+---------+-----------+-----------------+----+----+----+--------+---------------+\n",
      "|GRE Score|TOEFL Score|University Rating| SOP| LOR|CGPA|Research|Chance of Admit|\n",
      "+---------+-----------+-----------------+----+----+----+--------+---------------+\n",
      "|   337.00|     118.00|                4|4.50|4.50|9.65|    1.00|           0.92|\n",
      "|   324.00|     107.00|                4|4.00|4.50|8.87|    1.00|           0.76|\n",
      "|     null|     104.00|                3|3.00|3.50|8.00|    1.00|           0.72|\n",
      "|   322.00|     110.00|                3|3.50|2.50|8.67|    1.00|           0.80|\n",
      "|   314.00|     103.00|                2|2.00|3.00|8.21|    0.00|           0.65|\n",
      "|   330.00|     115.00|                5|4.50|3.00|9.34|    1.00|           0.90|\n",
      "|   321.00|     109.00|             null|3.00|4.00|8.20|    1.00|           0.75|\n",
      "|   308.00|     101.00|                2|3.00|4.00|7.90|    0.00|           0.68|\n",
      "|   302.00|     102.00|                1|2.00|1.50|8.00|    0.00|           0.50|\n",
      "|   323.00|     108.00|                3|3.50|3.00|8.60|    0.00|           0.45|\n",
      "|   325.00|     106.00|                3|3.50|4.00|8.40|    1.00|           0.52|\n",
      "|   327.00|     111.00|                4|4.00|4.50|9.00|    1.00|           0.84|\n",
      "|     null|     112.00|                4|4.00|4.50|9.10|    1.00|           0.78|\n",
      "|   307.00|     109.00|                3|4.00|3.00|8.00|    1.00|           0.62|\n",
      "|   311.00|     104.00|                3|3.50|2.00|8.20|    1.00|           0.61|\n",
      "|   314.00|     105.00|                3|3.50|2.50|8.30|    0.00|           0.54|\n",
      "|   317.00|     107.00|                3|4.00|3.00|8.70|    0.00|           0.66|\n",
      "|   319.00|     106.00|                3|4.00|3.00|8.00|    1.00|           0.65|\n",
      "|   318.00|     110.00|                3|4.00|3.00|8.80|    0.00|           0.63|\n",
      "|   303.00|     102.00|                3|3.50|3.00|8.50|    0.00|           0.62|\n",
      "+---------+-----------+-----------------+----+----+----+--------+---------------+\n",
      "only showing top 20 rows\n",
      "\n"
     ]
    }
   ],
   "source": [
    "df.show()"
   ]
  },
  {
   "cell_type": "code",
   "execution_count": 56,
   "id": "ec199f48",
   "metadata": {},
   "outputs": [],
   "source": [
    "float_df = df.select(*(col(c).cast(\"float\").alias(c) for c in df.columns))"
   ]
  },
  {
   "cell_type": "code",
   "execution_count": 57,
   "id": "4973ba83",
   "metadata": {},
   "outputs": [
    {
     "name": "stdout",
     "output_type": "stream",
     "text": [
      "root\n",
      " |-- GRE Score: float (nullable = true)\n",
      " |-- TOEFL Score: float (nullable = true)\n",
      " |-- University Rating: float (nullable = true)\n",
      " |-- SOP: float (nullable = true)\n",
      " |-- LOR: float (nullable = true)\n",
      " |-- CGPA: float (nullable = true)\n",
      " |-- Research: float (nullable = true)\n",
      " |-- Chance of Admit: float (nullable = true)\n",
      "\n"
     ]
    }
   ],
   "source": [
    "float_df.printSchema()"
   ]
  },
  {
   "cell_type": "code",
   "execution_count": 59,
   "id": "28b4d74f",
   "metadata": {},
   "outputs": [
    {
     "name": "stdout",
     "output_type": "stream",
     "text": [
      "+---------+-----------+-----------------+---+---+----+--------+---------------+\n",
      "|GRE Score|TOEFL Score|University Rating|SOP|LOR|CGPA|Research|Chance of Admit|\n",
      "+---------+-----------+-----------------+---+---+----+--------+---------------+\n",
      "|       15|         10|               15|  0|  0|   0|       0|              0|\n",
      "+---------+-----------+-----------------+---+---+----+--------+---------------+\n",
      "\n"
     ]
    }
   ],
   "source": [
    "float_df.select([count(when(col(c).isNull(), c)).alias(c) for c in float_df.columns]).show()"
   ]
  },
  {
   "cell_type": "code",
   "execution_count": 62,
   "id": "e1e77c2c",
   "metadata": {},
   "outputs": [
    {
     "data": {
      "text/plain": [
       "DataFrame[GRE Score: float, TOEFL Score: float, University Rating: float, SOP: float, LOR: float, CGPA: float, Research: float, Chance of Admit: float]"
      ]
     },
     "execution_count": 62,
     "metadata": {},
     "output_type": "execute_result"
    }
   ],
   "source": [
    "imputer = Imputer(inputCols = [\"GRE Score\", \"TOEFL Score\", \"University Rating\"], \n",
    "                  outputCols = [\"GRE Score\", \"TOEFL Score\", \"University Rating\"])\n",
    "\n",
    "model = imputer.fit(float_df)\n",
    "\n",
    "imputed = model.transform(float_df)\n",
    "imputed"
   ]
  },
  {
   "cell_type": "code",
   "execution_count": 63,
   "id": "90f6ab40",
   "metadata": {},
   "outputs": [
    {
     "name": "stdout",
     "output_type": "stream",
     "text": [
      "+---------+-----------+-----------------+---+---+----+--------+---------------+\n",
      "|GRE Score|TOEFL Score|University Rating|SOP|LOR|CGPA|Research|Chance of Admit|\n",
      "+---------+-----------+-----------------+---+---+----+--------+---------------+\n",
      "|        0|          0|                0|  0|  0|   0|       0|              0|\n",
      "+---------+-----------+-----------------+---+---+----+--------+---------------+\n",
      "\n"
     ]
    }
   ],
   "source": [
    "imputed.select([count(when(col(c).isNull(), c)).alias(c) for c in imputed.columns]).show()"
   ]
  },
  {
   "cell_type": "code",
   "execution_count": 64,
   "id": "875409ec",
   "metadata": {},
   "outputs": [
    {
     "data": {
      "text/plain": [
       "DataFrame[GRE Score: float, TOEFL Score: float, University Rating: float, SOP: float, LOR: float, CGPA: float, Research: float]"
      ]
     },
     "execution_count": 64,
     "metadata": {},
     "output_type": "execute_result"
    }
   ],
   "source": [
    "features = imputed_data.drop('Chance of Admit')\n",
    "features"
   ]
  },
  {
   "cell_type": "code",
   "execution_count": 80,
   "id": "33050d99",
   "metadata": {},
   "outputs": [],
   "source": [
    "assembler = VectorAssembler(inputCols = features.columns, outputCol = \"features\")"
   ]
  },
  {
   "cell_type": "code",
   "execution_count": 81,
   "id": "edc8427e",
   "metadata": {},
   "outputs": [],
   "source": [
    "data = assembler.transform(imputed)"
   ]
  },
  {
   "cell_type": "code",
   "execution_count": 82,
   "id": "d8159a20",
   "metadata": {},
   "outputs": [],
   "source": [
    "data = data.select(\"features\", \"Chance of Admit\")"
   ]
  },
  {
   "cell_type": "code",
   "execution_count": 70,
   "id": "4e06225e",
   "metadata": {},
   "outputs": [],
   "source": [
    "train_df, test_df = output.randomSplit([0.7, 0.3])"
   ]
  },
  {
   "cell_type": "code",
   "execution_count": 71,
   "id": "452fff21",
   "metadata": {},
   "outputs": [
    {
     "name": "stdout",
     "output_type": "stream",
     "text": [
      "+--------------------+---------------+\n",
      "|            features|Chance of Admit|\n",
      "+--------------------+---------------+\n",
      "|[290.0,100.0,1.0,...|           0.47|\n",
      "|[294.0,93.0,1.0,1...|           0.46|\n",
      "|[294.0,95.0,1.0,1...|           0.49|\n",
      "|[295.0,93.0,1.0,2...|           0.46|\n",
      "|[295.0,96.0,2.0,1...|           0.47|\n",
      "|[295.0,99.0,1.0,2...|           0.37|\n",
      "|[295.0,99.0,2.0,2...|           0.57|\n",
      "|[295.0,101.0,2.0,...|           0.69|\n",
      "|[296.0,95.0,2.0,3...|           0.44|\n",
      "|[296.0,97.0,2.0,1...|           0.49|\n",
      "|[296.0,99.0,2.0,3...|           0.47|\n",
      "|[296.0,101.0,1.0,...|            0.6|\n",
      "|[297.0,96.0,2.0,2...|           0.43|\n",
      "|[297.0,98.0,2.0,2...|           0.59|\n",
      "|[297.0,99.0,4.0,3...|           0.54|\n",
      "|[297.0,100.0,1.0,...|           0.52|\n",
      "|[297.0,101.0,3.0,...|           0.57|\n",
      "|[298.0,99.0,1.0,1...|           0.53|\n",
      "|[298.0,100.0,3.0,...|           0.58|\n",
      "|[298.0,101.0,4.0,...|           0.53|\n",
      "+--------------------+---------------+\n",
      "only showing top 20 rows\n",
      "\n"
     ]
    }
   ],
   "source": [
    "train_df.show()"
   ]
  },
  {
   "cell_type": "code",
   "execution_count": 72,
   "id": "53d229c8",
   "metadata": {},
   "outputs": [
    {
     "name": "stdout",
     "output_type": "stream",
     "text": [
      "+--------------------+---------------+\n",
      "|            features|Chance of Admit|\n",
      "+--------------------+---------------+\n",
      "|[290.0,104.0,4.0,...|           0.45|\n",
      "|[293.0,97.0,2.0,2...|           0.64|\n",
      "|[296.0,99.0,2.0,2...|           0.61|\n",
      "|[297.0,96.0,2.0,2...|           0.34|\n",
      "|[298.0,92.0,1.0,2...|           0.51|\n",
      "|[298.0,97.0,3.121...|           0.45|\n",
      "|[298.0,98.0,2.0,1...|           0.44|\n",
      "|[298.0,98.0,2.0,4...|           0.34|\n",
      "|[298.0,101.0,2.0,...|           0.54|\n",
      "|[299.0,100.0,1.0,...|           0.59|\n",
      "|[299.0,100.0,2.0,...|           0.51|\n",
      "|[299.0,100.0,3.0,...|           0.63|\n",
      "|[299.0,100.0,3.0,...|           0.42|\n",
      "|[300.0,99.0,1.0,3...|           0.36|\n",
      "|[300.0,100.0,3.12...|           0.62|\n",
      "|[300.0,104.0,3.0,...|           0.71|\n",
      "|[301.0,97.0,2.0,3...|           0.44|\n",
      "|[301.0,104.0,3.0,...|           0.68|\n",
      "|[302.0,99.0,2.0,1...|           0.56|\n",
      "|[302.0,101.0,2.0,...|           0.46|\n",
      "+--------------------+---------------+\n",
      "only showing top 20 rows\n",
      "\n"
     ]
    }
   ],
   "source": [
    "test_df.show()"
   ]
  },
  {
   "cell_type": "code",
   "execution_count": 73,
   "id": "e6fdab58",
   "metadata": {},
   "outputs": [],
   "source": [
    "lin_reg = LinearRegression(featuresCol = 'features', labelCol = 'Chance of Admit')\n",
    "linear_model = lin_reg.fit(train_df)"
   ]
  },
  {
   "cell_type": "code",
   "execution_count": 74,
   "id": "174981d8",
   "metadata": {},
   "outputs": [
    {
     "name": "stdout",
     "output_type": "stream",
     "text": [
      "Coefficients: [0.0014194034689669263,0.002199854326592215,0.002873833686401836,0.004274291562135011,0.019527468223737143,0.12936750799742042,0.024247480323427984]\n",
      "Intercept: -1.1793019566947878\n"
     ]
    }
   ],
   "source": [
    "print(\"Coefficients: \" + str(linear_model.coefficients))\n",
    "print(\"Intercept: \" + str(linear_model.intercept))"
   ]
  },
  {
   "cell_type": "code",
   "execution_count": 75,
   "id": "2249db13",
   "metadata": {},
   "outputs": [
    {
     "name": "stdout",
     "output_type": "stream",
     "text": [
      "RMSE: 0.060772\n",
      "r2: 0.816559\n"
     ]
    }
   ],
   "source": [
    "trainSummary = linear_model.summary\n",
    "print(\"RMSE: %f\" % trainSummary.rootMeanSquaredError)\n",
    "print(\"r2: %f\" % trainSummary.r2)"
   ]
  },
  {
   "cell_type": "code",
   "execution_count": 76,
   "id": "54cebe01",
   "metadata": {},
   "outputs": [
    {
     "name": "stdout",
     "output_type": "stream",
     "text": [
      "+-------------------+---------------+--------------------+\n",
      "|         prediction|Chance of Admit|            features|\n",
      "+-------------------+---------------+--------------------+\n",
      "|0.49505410229616653|           0.45|[290.0,104.0,4.0,...|\n",
      "|   0.57568932016219|           0.64|[293.0,97.0,2.0,2...|\n",
      "|   0.56270016996397|           0.61|[296.0,99.0,2.0,2...|\n",
      "|0.47013578388028643|           0.34|[297.0,96.0,2.0,2...|\n",
      "| 0.5159602061865953|           0.51|[298.0,92.0,1.0,2...|\n",
      "| 0.4659079736295577|           0.45|[298.0,97.0,3.121...|\n",
      "| 0.5147475666428234|           0.44|[298.0,98.0,2.0,1...|\n",
      "| 0.5795142940303828|           0.34|[298.0,98.0,2.0,4...|\n",
      "| 0.5339082353388005|           0.54|[298.0,101.0,2.0,...|\n",
      "| 0.5341349414898444|           0.59|[299.0,100.0,1.0,...|\n",
      "| 0.5378522779547017|           0.51|[299.0,100.0,2.0,...|\n",
      "| 0.5588376071755516|           0.63|[299.0,100.0,3.0,...|\n",
      "| 0.5007445212510488|           0.42|[299.0,100.0,3.0,...|\n",
      "|0.42300286652898156|           0.36|[300.0,99.0,1.0,3...|\n",
      "| 0.6252202772934574|           0.62|[300.0,100.0,3.12...|\n",
      "| 0.6131067056778055|           0.71|[300.0,104.0,3.0,...|\n",
      "| 0.5821407620221593|           0.44|[301.0,97.0,2.0,3...|\n",
      "| 0.6531263623090195|           0.68|[301.0,104.0,3.0,...|\n",
      "| 0.5472793762453236|           0.56|[302.0,99.0,2.0,1...|\n",
      "|  0.586088081574704|           0.46|[302.0,101.0,2.0,...|\n",
      "+-------------------+---------------+--------------------+\n",
      "only showing top 20 rows\n",
      "\n"
     ]
    }
   ],
   "source": [
    "predictions = linear_model.transform(test_df)\n",
    "predictions.select('prediction', 'Chance of Admit', 'features').show()"
   ]
  },
  {
   "cell_type": "code",
   "execution_count": 77,
   "id": "c7936eeb",
   "metadata": {},
   "outputs": [
    {
     "name": "stdout",
     "output_type": "stream",
     "text": [
      "R Squared (R2) on test data =  0.8254785936230882\n"
     ]
    }
   ],
   "source": [
    "pred_evaluator = RegressionEvaluator(predictionCol = 'prediction', labelCol = 'Chance of Admit', metricName = 'r2')\n",
    "print(\"R Squared (R2) on test data = \", pred_evaluator.evaluate(predictions))"
   ]
  },
  {
   "cell_type": "code",
   "execution_count": 78,
   "id": "ab2e9dbe",
   "metadata": {},
   "outputs": [],
   "source": [
    "featureIndexer = VectorIndexer(inputCol = 'features', outputCol = 'indexedFeatures', maxCategories = 4).fit(data)"
   ]
  },
  {
   "cell_type": "code",
   "execution_count": 79,
   "id": "e1b5bc08",
   "metadata": {},
   "outputs": [],
   "source": [
    "featureIndexer = featureIndexer.transform(data)"
   ]
  },
  {
   "cell_type": "code",
   "execution_count": 83,
   "id": "a0ff8b9c",
   "metadata": {},
   "outputs": [],
   "source": [
    "new_indexed_data = featureIndexer.select('indexedFeatures', 'Chance of Admit')"
   ]
  },
  {
   "cell_type": "code",
   "execution_count": 84,
   "id": "8564b286",
   "metadata": {},
   "outputs": [],
   "source": [
    "training, test = new_indexed_data.randomSplit([0.7, 0.3])"
   ]
  },
  {
   "cell_type": "code",
   "execution_count": 85,
   "id": "2eafa6a4",
   "metadata": {},
   "outputs": [
    {
     "name": "stdout",
     "output_type": "stream",
     "text": [
      "+--------------------+---------------+\n",
      "|     indexedFeatures|Chance of Admit|\n",
      "+--------------------+---------------+\n",
      "|[290.0,100.0,1.0,...|           0.47|\n",
      "|[290.0,104.0,4.0,...|           0.45|\n",
      "|[293.0,97.0,2.0,2...|           0.64|\n",
      "|[294.0,93.0,1.0,1...|           0.46|\n",
      "|[294.0,95.0,1.0,1...|           0.49|\n",
      "|[295.0,99.0,2.0,2...|           0.57|\n",
      "|[296.0,97.0,2.0,1...|           0.49|\n",
      "|[296.0,99.0,2.0,3...|           0.47|\n",
      "|[296.0,101.0,1.0,...|            0.6|\n",
      "|[297.0,96.0,2.0,2...|           0.43|\n",
      "|[297.0,96.0,2.0,2...|           0.34|\n",
      "|[297.0,98.0,2.0,2...|           0.59|\n",
      "|[297.0,99.0,4.0,3...|           0.54|\n",
      "|[297.0,100.0,1.0,...|           0.52|\n",
      "|[297.0,101.0,3.0,...|           0.57|\n",
      "|[298.0,92.0,1.0,2...|           0.51|\n",
      "|[298.0,98.0,2.0,1...|           0.44|\n",
      "|[298.0,99.0,1.0,1...|           0.53|\n",
      "|[298.0,100.0,3.0,...|           0.58|\n",
      "|[298.0,101.0,2.0,...|           0.54|\n",
      "+--------------------+---------------+\n",
      "only showing top 20 rows\n",
      "\n"
     ]
    }
   ],
   "source": [
    "training.show()"
   ]
  },
  {
   "cell_type": "code",
   "execution_count": 86,
   "id": "5851ef33",
   "metadata": {},
   "outputs": [
    {
     "name": "stdout",
     "output_type": "stream",
     "text": [
      "+--------------------+---------------+\n",
      "|     indexedFeatures|Chance of Admit|\n",
      "+--------------------+---------------+\n",
      "|[295.0,93.0,1.0,2...|           0.46|\n",
      "|[295.0,96.0,2.0,1...|           0.47|\n",
      "|[295.0,99.0,1.0,2...|           0.37|\n",
      "|[295.0,101.0,2.0,...|           0.69|\n",
      "|[296.0,95.0,2.0,3...|           0.44|\n",
      "|[296.0,99.0,2.0,2...|           0.61|\n",
      "|[298.0,97.0,3.121...|           0.45|\n",
      "|[298.0,98.0,2.0,4...|           0.34|\n",
      "|[298.0,101.0,4.0,...|           0.53|\n",
      "|[298.0,107.187751...|           0.46|\n",
      "|[299.0,94.0,1.0,1...|           0.42|\n",
      "|[299.0,100.0,1.0,...|           0.59|\n",
      "|[299.0,100.0,2.0,...|           0.51|\n",
      "|[299.0,100.0,3.0,...|           0.42|\n",
      "|[300.0,98.0,1.0,2...|           0.61|\n",
      "|[300.0,99.0,1.0,1...|           0.58|\n",
      "|[300.0,99.0,1.0,3...|           0.36|\n",
      "|[301.0,97.0,2.0,3...|           0.44|\n",
      "|[301.0,99.0,2.0,3...|           0.64|\n",
      "|[301.0,99.0,3.0,2...|           0.68|\n",
      "+--------------------+---------------+\n",
      "only showing top 20 rows\n",
      "\n"
     ]
    }
   ],
   "source": [
    "test.show()"
   ]
  },
  {
   "cell_type": "code",
   "execution_count": 87,
   "id": "fd2641e7",
   "metadata": {},
   "outputs": [],
   "source": [
    "random_forest_reg = RandomForestRegressor(featuresCol = 'indexedFeatures', labelCol = 'Chance of Admit' )"
   ]
  },
  {
   "cell_type": "code",
   "execution_count": 88,
   "id": "4e4cc59e",
   "metadata": {},
   "outputs": [],
   "source": [
    "model = random_forest_reg.fit(training)"
   ]
  },
  {
   "cell_type": "code",
   "execution_count": 89,
   "id": "653a73a2",
   "metadata": {},
   "outputs": [],
   "source": [
    "predictions = model.transform(test)"
   ]
  },
  {
   "cell_type": "code",
   "execution_count": 90,
   "id": "846fd95b",
   "metadata": {},
   "outputs": [
    {
     "name": "stdout",
     "output_type": "stream",
     "text": [
      "+--------------------+---------------+-------------------+\n",
      "|     indexedFeatures|Chance of Admit|         prediction|\n",
      "+--------------------+---------------+-------------------+\n",
      "|[295.0,93.0,1.0,2...|           0.46|0.47653483613604297|\n",
      "|[295.0,96.0,2.0,1...|           0.47| 0.4636263062324808|\n",
      "|[295.0,99.0,1.0,2...|           0.37|0.49465438908586706|\n",
      "|[295.0,101.0,2.0,...|           0.69| 0.5327098335814625|\n",
      "|[296.0,95.0,2.0,3...|           0.44| 0.5034169315172099|\n",
      "|[296.0,99.0,2.0,2...|           0.61| 0.5754368963760154|\n",
      "|[298.0,97.0,3.121...|           0.45|0.47095523504650466|\n",
      "|[298.0,98.0,2.0,4...|           0.34| 0.5977897521816082|\n",
      "|[298.0,101.0,4.0,...|           0.53| 0.5981700015488112|\n",
      "|[298.0,107.187751...|           0.46| 0.5590280084876056|\n",
      "|[299.0,94.0,1.0,1...|           0.42| 0.4847285612474656|\n",
      "|[299.0,100.0,1.0,...|           0.59| 0.5362772259169296|\n",
      "|[299.0,100.0,2.0,...|           0.51| 0.5317752413824107|\n",
      "|[299.0,100.0,3.0,...|           0.42| 0.5353638617260578|\n",
      "|[300.0,98.0,1.0,2...|           0.61|  0.556819690869246|\n",
      "|[300.0,99.0,1.0,1...|           0.58|  0.556819690869246|\n",
      "|[300.0,99.0,1.0,3...|           0.36| 0.5366742055492086|\n",
      "|[301.0,97.0,2.0,3...|           0.44| 0.5957859880545671|\n",
      "|[301.0,99.0,2.0,3...|           0.64| 0.6178850976903634|\n",
      "|[301.0,99.0,3.0,2...|           0.68| 0.6447297518016193|\n",
      "+--------------------+---------------+-------------------+\n",
      "only showing top 20 rows\n",
      "\n"
     ]
    }
   ],
   "source": [
    "predictions.show()"
   ]
  },
  {
   "cell_type": "code",
   "execution_count": 91,
   "id": "f4771199",
   "metadata": {},
   "outputs": [
    {
     "name": "stdout",
     "output_type": "stream",
     "text": [
      "Root Mean Squared Error (RMSE) on test data =  0.06531402920070192\n"
     ]
    }
   ],
   "source": [
    "evaluator = RegressionEvaluator(labelCol = 'Chance of Admit', predictionCol = 'prediction', metricName = 'rmse')\n",
    "print ('Root Mean Squared Error (RMSE) on test data = ', evaluator.evaluate(predictions))"
   ]
  },
  {
   "cell_type": "code",
   "execution_count": 93,
   "id": "21cffc6c",
   "metadata": {},
   "outputs": [
    {
     "name": "stdout",
     "output_type": "stream",
     "text": [
      "R Squared (R2) on test data =  0.8082184090112785\n"
     ]
    }
   ],
   "source": [
    "evaluator = RegressionEvaluator(labelCol = 'Chance of Admit', predictionCol = 'prediction', metricName = 'r2')\n",
    "print('R Squared (R2) on test data = ', evaluator.evaluate(predictions))"
   ]
  },
  {
   "cell_type": "markdown",
   "id": "2db2a25a",
   "metadata": {},
   "source": [
    "Classification"
   ]
  },
  {
   "cell_type": "code",
   "execution_count": 94,
   "id": "50aeeeef",
   "metadata": {},
   "outputs": [],
   "source": [
    "diabetes = spark.read.csv('diabetes.csv', header = True)"
   ]
  },
  {
   "cell_type": "code",
   "execution_count": 96,
   "id": "1edef9ea",
   "metadata": {},
   "outputs": [
    {
     "name": "stdout",
     "output_type": "stream",
     "text": [
      "root\n",
      " |-- Pregnancies: string (nullable = true)\n",
      " |-- Glucose: string (nullable = true)\n",
      " |-- BloodPressure: string (nullable = true)\n",
      " |-- SkinThickness: string (nullable = true)\n",
      " |-- Insulin: string (nullable = true)\n",
      " |-- BMI: string (nullable = true)\n",
      " |-- DiabetesPedigreeFunction: string (nullable = true)\n",
      " |-- Age: string (nullable = true)\n",
      " |-- Outcome: string (nullable = true)\n",
      "\n"
     ]
    }
   ],
   "source": [
    "diabetes.printSchema()"
   ]
  },
  {
   "cell_type": "code",
   "execution_count": 95,
   "id": "2dc331e7",
   "metadata": {},
   "outputs": [
    {
     "name": "stdout",
     "output_type": "stream",
     "text": [
      "+-----------+-------+-------------+-------------+-------+----+------------------------+---+-------+\n",
      "|Pregnancies|Glucose|BloodPressure|SkinThickness|Insulin| BMI|DiabetesPedigreeFunction|Age|Outcome|\n",
      "+-----------+-------+-------------+-------------+-------+----+------------------------+---+-------+\n",
      "|          6|    148|           72|           35|      0|33.6|                   0.627| 50|      1|\n",
      "|          1|     85|           66|           29|      0|26.6|                   0.351| 31|      0|\n",
      "|          8|    183|           64|            0|      0|23.3|                   0.672| 32|      1|\n",
      "|          1|     89|           66|           23|     94|28.1|                   0.167| 21|      0|\n",
      "|          0|    137|           40|           35|    168|43.1|                   2.288| 33|      1|\n",
      "|          5|    116|           74|            0|      0|25.6|                   0.201| 30|      0|\n",
      "|          3|     78|           50|           32|     88|  31|                   0.248| 26|      1|\n",
      "|         10|    115|            0|            0|      0|35.3|                   0.134| 29|      0|\n",
      "|          2|    197|           70|           45|    543|30.5|                   0.158| 53|      1|\n",
      "|          8|    125|           96|            0|      0|   0|                   0.232| 54|      1|\n",
      "|          4|    110|           92|            0|      0|37.6|                   0.191| 30|      0|\n",
      "|         10|    168|           74|            0|      0|  38|                   0.537| 34|      1|\n",
      "|         10|    139|           80|            0|      0|27.1|                   1.441| 57|      0|\n",
      "|          1|    189|           60|           23|    846|30.1|                   0.398| 59|      1|\n",
      "|          5|    166|           72|           19|    175|25.8|                   0.587| 51|      1|\n",
      "|          7|    100|            0|            0|      0|  30|                   0.484| 32|      1|\n",
      "|          0|    118|           84|           47|    230|45.8|                   0.551| 31|      1|\n",
      "|          7|    107|           74|            0|      0|29.6|                   0.254| 31|      1|\n",
      "|          1|    103|           30|           38|     83|43.3|                   0.183| 33|      0|\n",
      "|          1|    115|           70|           30|     96|34.6|                   0.529| 32|      1|\n",
      "+-----------+-------+-------------+-------------+-------+----+------------------------+---+-------+\n",
      "only showing top 20 rows\n",
      "\n"
     ]
    }
   ],
   "source": [
    "diabetes.show()"
   ]
  },
  {
   "cell_type": "code",
   "execution_count": 99,
   "id": "d38e979c",
   "metadata": {},
   "outputs": [],
   "source": [
    "float_diabetes = diabetes.select(*(col(c).cast(\"float\").alias(c) for c in diabetes.columns))"
   ]
  },
  {
   "cell_type": "code",
   "execution_count": 100,
   "id": "1180fabb",
   "metadata": {},
   "outputs": [
    {
     "name": "stdout",
     "output_type": "stream",
     "text": [
      "root\n",
      " |-- Pregnancies: float (nullable = true)\n",
      " |-- Glucose: float (nullable = true)\n",
      " |-- BloodPressure: float (nullable = true)\n",
      " |-- SkinThickness: float (nullable = true)\n",
      " |-- Insulin: float (nullable = true)\n",
      " |-- BMI: float (nullable = true)\n",
      " |-- DiabetesPedigreeFunction: float (nullable = true)\n",
      " |-- Age: float (nullable = true)\n",
      " |-- Outcome: float (nullable = true)\n",
      "\n"
     ]
    }
   ],
   "source": [
    "float_diabetes.printSchema()"
   ]
  },
  {
   "cell_type": "code",
   "execution_count": 101,
   "id": "bc79c76e",
   "metadata": {},
   "outputs": [
    {
     "name": "stdout",
     "output_type": "stream",
     "text": [
      "+-----------+-------+-------------+-------------+-------+---+------------------------+---+-------+\n",
      "|Pregnancies|Glucose|BloodPressure|SkinThickness|Insulin|BMI|DiabetesPedigreeFunction|Age|Outcome|\n",
      "+-----------+-------+-------------+-------------+-------+---+------------------------+---+-------+\n",
      "|          0|      0|            0|            0|      0|  0|                       0|  0|      0|\n",
      "+-----------+-------+-------------+-------------+-------+---+------------------------+---+-------+\n",
      "\n"
     ]
    }
   ],
   "source": [
    "float_diabetes.select([count(when(col(c).isNull(), c)).alias(c) for c in float_diabetes.columns]).show()"
   ]
  },
  {
   "cell_type": "code",
   "execution_count": 107,
   "id": "b3b743ba",
   "metadata": {},
   "outputs": [],
   "source": [
    "cols = float_diabetes.columns\n",
    "cols.remove('Outcome')"
   ]
  },
  {
   "cell_type": "code",
   "execution_count": 108,
   "id": "1fc4da38",
   "metadata": {},
   "outputs": [],
   "source": [
    "assembler = VectorAssembler(inputCols = cols, outputCol = 'features')"
   ]
  },
  {
   "cell_type": "code",
   "execution_count": 110,
   "id": "c9aa21fa",
   "metadata": {},
   "outputs": [],
   "source": [
    "data = assembler.transform(float_diabetes)"
   ]
  },
  {
   "cell_type": "code",
   "execution_count": 119,
   "id": "24a701a2",
   "metadata": {},
   "outputs": [
    {
     "data": {
      "text/plain": [
       "['Pregnancies',\n",
       " 'Glucose',\n",
       " 'BloodPressure',\n",
       " 'SkinThickness',\n",
       " 'Insulin',\n",
       " 'BMI',\n",
       " 'DiabetesPedigreeFunction',\n",
       " 'Age',\n",
       " 'Outcome',\n",
       " 'features',\n",
       " 'Scaled_features']"
      ]
     },
     "execution_count": 119,
     "metadata": {},
     "output_type": "execute_result"
    }
   ],
   "source": [
    "data.columns"
   ]
  },
  {
   "cell_type": "code",
   "execution_count": 111,
   "id": "7ccf574e",
   "metadata": {},
   "outputs": [
    {
     "name": "stdout",
     "output_type": "stream",
     "text": [
      "+-----------------------------------------------------------------------+-------+\n",
      "|features                                                               |Outcome|\n",
      "+-----------------------------------------------------------------------+-------+\n",
      "|[6.0,148.0,72.0,35.0,0.0,33.599998474121094,0.6269999742507935,50.0]   |1.0    |\n",
      "|[1.0,85.0,66.0,29.0,0.0,26.600000381469727,0.35100001096725464,31.0]   |0.0    |\n",
      "|[8.0,183.0,64.0,0.0,0.0,23.299999237060547,0.671999990940094,32.0]     |1.0    |\n",
      "|[1.0,89.0,66.0,23.0,94.0,28.100000381469727,0.16699999570846558,21.0]  |0.0    |\n",
      "|[0.0,137.0,40.0,35.0,168.0,43.099998474121094,2.2880001068115234,33.0] |1.0    |\n",
      "|[5.0,116.0,74.0,0.0,0.0,25.600000381469727,0.20100000500679016,30.0]   |0.0    |\n",
      "|[3.0,78.0,50.0,32.0,88.0,31.0,0.24799999594688416,26.0]                |1.0    |\n",
      "|[10.0,115.0,0.0,0.0,0.0,35.29999923706055,0.1340000033378601,29.0]     |0.0    |\n",
      "|[2.0,197.0,70.0,45.0,543.0,30.5,0.15800000727176666,53.0]              |1.0    |\n",
      "|[8.0,125.0,96.0,0.0,0.0,0.0,0.23199999332427979,54.0]                  |1.0    |\n",
      "|[4.0,110.0,92.0,0.0,0.0,37.599998474121094,0.19099999964237213,30.0]   |0.0    |\n",
      "|[10.0,168.0,74.0,0.0,0.0,38.0,0.5370000004768372,34.0]                 |1.0    |\n",
      "|[10.0,139.0,80.0,0.0,0.0,27.100000381469727,1.440999984741211,57.0]    |0.0    |\n",
      "|[1.0,189.0,60.0,23.0,846.0,30.100000381469727,0.39800000190734863,59.0]|1.0    |\n",
      "|[5.0,166.0,72.0,19.0,175.0,25.799999237060547,0.5870000123977661,51.0] |1.0    |\n",
      "|[7.0,100.0,0.0,0.0,0.0,30.0,0.48399999737739563,32.0]                  |1.0    |\n",
      "|[0.0,118.0,84.0,47.0,230.0,45.79999923706055,0.5509999990463257,31.0]  |1.0    |\n",
      "|[7.0,107.0,74.0,0.0,0.0,29.600000381469727,0.2540000081062317,31.0]    |1.0    |\n",
      "|[1.0,103.0,30.0,38.0,83.0,43.29999923706055,0.18299999833106995,33.0]  |0.0    |\n",
      "|[1.0,115.0,70.0,30.0,96.0,34.599998474121094,0.5289999842643738,32.0]  |1.0    |\n",
      "+-----------------------------------------------------------------------+-------+\n",
      "only showing top 20 rows\n",
      "\n"
     ]
    }
   ],
   "source": [
    "data.select('features', 'Outcome').show(truncate = False)"
   ]
  },
  {
   "cell_type": "code",
   "execution_count": 121,
   "id": "f68e43a8",
   "metadata": {},
   "outputs": [],
   "source": [
    "standardscaler = StandardScaler().setInputCol('features').setOutputCol('scaled_features')\n",
    "data = standardscaler.fit(data).transform(data)"
   ]
  },
  {
   "cell_type": "code",
   "execution_count": 122,
   "id": "ac0d2e5e",
   "metadata": {},
   "outputs": [
    {
     "name": "stdout",
     "output_type": "stream",
     "text": [
      "+-----------------------------------------------------------------------+-------+---------------------------------------------------------------------------------------------------------------------------------------------------------+\n",
      "|features                                                               |Outcome|scaled_features                                                                                                                                          |\n",
      "+-----------------------------------------------------------------------+-------+---------------------------------------------------------------------------------------------------------------------------------------------------------+\n",
      "|[6.0,148.0,72.0,35.0,0.0,33.599998474121094,0.6269999742507935,50.0]   |1.0    |[1.7806383732194306,4.628960915766174,3.7198138711154307,2.1940523222807116,0.0,4.261709202425419,1.8923810993699686,4.251616970894646]                  |\n",
      "|[1.0,85.0,66.0,29.0,0.0,26.600000381469727,0.35100001096725464,31.0]   |0.0    |[0.29677306220323846,2.658524850271114,3.4098293818558116,1.8179290670325896,0.0,3.373853320188119,1.0593713140527197,2.6360025219546803]                |\n",
      "|[8.0,183.0,64.0,0.0,0.0,23.299999237060547,0.671999990940094,32.0]     |1.0    |[2.3741844976259077,5.723647618818986,3.306501218769272,0.0,0.0,2.955292430788826,2.028197980632078,2.721034861372573]                                   |\n",
      "|[1.0,89.0,66.0,23.0,94.0,28.100000381469727,0.16699999570846558,21.0]  |0.0    |[0.29677306220323846,2.783631902048578,3.4098293818558116,1.4418058117844677,0.8156606685129459,3.564108203936454,0.5040313372439763,1.785679127775751]  |\n",
      "|[0.0,137.0,40.0,35.0,168.0,43.099998474121094,2.2880001068115234,33.0] |1.0    |[0.0,4.284916523378148,2.0665632617307947,2.1940523222807116,1.4577765139380312,5.466656799498205,6.905531635244907,2.806067200790466]                   |\n",
      "|[5.0,116.0,74.0,0.0,0.0,25.600000381469727,0.20100000500679016,30.0]   |0.0    |[1.4838653110161923,3.628104501546461,3.823142034201971,0.0,0.0,3.247016731022563,0.6066485264255773,2.5509701825367874]                                 |\n",
      "|[3.0,78.0,50.0,32.0,88.0,31.0,0.24799999594688416,26.0]                |1.0    |[0.8903191866097153,2.4395875096605515,2.5832040771634937,2.0059906946566506,0.7635972215865877,3.9319342641322486,0.7485016335678398,2.210840824865216] |\n",
      "|[10.0,115.0,0.0,0.0,0.0,35.29999923706055,0.1340000033378601,29.0]     |0.0    |[2.9677306220323847,3.596827738602095,0.0,0.0,0.0,4.477331500775503,0.4044323509503849,2.4659378431188945]                                               |\n",
      "|[2.0,197.0,70.0,45.0,543.0,30.5,0.15800000727176666,53.0]              |1.0    |[0.5935461244064769,6.161522300040111,3.616485708028891,2.8209244143609147,4.711741946835422,3.8685159695494704,0.4768680059655209,4.5067139891483246]   |\n",
      "|[8.0,125.0,96.0,0.0,0.0,0.0,0.23199999332427979,54.0]                  |1.0    |[2.3741844976259077,3.9095953680457556,4.959751828153908,0.0,0.0,0.0,0.7002111968910825,4.5917463285662174]                                              |\n",
      "|[4.0,110.0,92.0,0.0,0.0,37.599998474121094,0.19099999964237213,30.0]   |0.0    |[1.1870922488129538,3.440443923880265,4.7530955019808285,0.0,0.0,4.7690555590876444,0.5764669922591124,2.5509701825367874]                               |\n",
      "|[10.0,168.0,74.0,0.0,0.0,38.0,0.5370000004768372,34.0]                 |1.0    |[2.9677306220323847,5.254496174653495,3.823142034201971,0.0,0.0,4.8197903882911435,1.6207475167416163,2.891099540208359]                                 |\n",
      "|[10.0,139.0,80.0,0.0,0.0,27.100000381469727,1.440999984741211,57.0]    |0.0    |[2.9677306220323847,4.34747004926688,4.1331265234615895,0.0,0.0,3.4372716147708973,4.349156694264776,4.846843346819896]                                  |\n",
      "|[1.0,189.0,60.0,23.0,846.0,30.100000381469727,0.39800000190734863,59.0]|1.0    |[0.29677306220323846,5.911308196485182,3.0998448925961926,1.4418058117844677,7.340946016616514,3.8177813822675666,1.201224421194982,5.016908025655682]   |\n",
      "|[5.0,166.0,72.0,19.0,175.0,25.799999237060547,0.5870000123977661,51.0] |1.0    |[1.4838653110161923,5.191942648764763,3.7198138711154307,1.1910569749523863,1.5185172020187825,3.272383903702717,1.7716551425999747,4.336649310312539]   |\n",
      "|[7.0,100.0,0.0,0.0,0.0,30.0,0.48399999737739563,32.0]                  |1.0    |[2.077411435422669,3.127676294436604,0.0,0.0,0.0,3.8050976749666923,1.4607854621150949,2.721034861372573]                                                |\n",
      "|[0.0,118.0,84.0,47.0,230.0,45.79999923706055,0.5509999990463257,31.0]  |1.0    |[0.0,3.6906580274351932,4.33978284963467,2.9462988327769555,1.9957654655103998,5.809115687013845,1.6630016375902872,2.6360025219546803]                  |\n",
      "|[7.0,107.0,74.0,0.0,0.0,29.600000381469727,0.2540000081062317,31.0]    |1.0    |[2.077411435422669,3.3466136350471665,3.823142034201971,0.0,0.0,3.7543630876847884,0.7666105810520987,2.6360025219546803]                                |\n",
      "|[1.0,103.0,30.0,38.0,83.0,43.29999923706055,0.18299999833106995,33.0]  |0.0    |[0.29677306220323846,3.2215065832697025,1.5499224462980963,2.3821139499047725,0.7202110158146225,5.4920242140999544,0.5523217739207337,2.806067200790466]|\n",
      "|[1.0,115.0,70.0,30.0,96.0,34.599998474121094,0.5289999842643738,32.0]  |1.0    |[0.29677306220323846,3.596827738602095,3.616485708028891,1.88061627624061,0.833015150821732,4.388545791590976,1.596602253429271,2.721034861372573]       |\n",
      "+-----------------------------------------------------------------------+-------+---------------------------------------------------------------------------------------------------------------------------------------------------------+\n",
      "only showing top 20 rows\n",
      "\n"
     ]
    }
   ],
   "source": [
    "data.select('features', 'Outcome', 'scaled_features').show(truncate = False)"
   ]
  },
  {
   "cell_type": "code",
   "execution_count": 123,
   "id": "71ec3977",
   "metadata": {},
   "outputs": [
    {
     "name": "stdout",
     "output_type": "stream",
     "text": [
      "+--------------------+-------+\n",
      "|     scaled_features|Outcome|\n",
      "+--------------------+-------+\n",
      "|[1.78063837321943...|    1.0|\n",
      "|[0.29677306220323...|    0.0|\n",
      "|[2.37418449762590...|    1.0|\n",
      "|[0.29677306220323...|    0.0|\n",
      "|[0.0,4.2849165233...|    1.0|\n",
      "|[1.48386531101619...|    0.0|\n",
      "|[0.89031918660971...|    1.0|\n",
      "|[2.96773062203238...|    0.0|\n",
      "|[0.59354612440647...|    1.0|\n",
      "|[2.37418449762590...|    1.0|\n",
      "|[1.18709224881295...|    0.0|\n",
      "|[2.96773062203238...|    1.0|\n",
      "|[2.96773062203238...|    0.0|\n",
      "|[0.29677306220323...|    1.0|\n",
      "|[1.48386531101619...|    1.0|\n",
      "|[2.07741143542266...|    1.0|\n",
      "|[0.0,3.6906580274...|    1.0|\n",
      "|[2.07741143542266...|    1.0|\n",
      "|[0.29677306220323...|    0.0|\n",
      "|[0.29677306220323...|    1.0|\n",
      "+--------------------+-------+\n",
      "only showing top 20 rows\n",
      "\n"
     ]
    }
   ],
   "source": [
    "assembled_data = data.select('scaled_features', 'Outcome')\n",
    "assembled_data.show()"
   ]
  },
  {
   "cell_type": "code",
   "execution_count": 124,
   "id": "d5ccdfe4",
   "metadata": {},
   "outputs": [],
   "source": [
    "train, test = assembled_data.randomSplit([0.7, 0.3])"
   ]
  },
  {
   "cell_type": "code",
   "execution_count": 125,
   "id": "d879a665",
   "metadata": {},
   "outputs": [
    {
     "name": "stdout",
     "output_type": "stream",
     "text": [
      "+--------------------+-------+\n",
      "|     scaled_features|Outcome|\n",
      "+--------------------+-------+\n",
      "|(8,[0,1,6,7],[0.5...|    0.0|\n",
      "|(8,[0,1,6,7],[0.5...|    0.0|\n",
      "|(8,[0,1,6,7],[0.8...|    0.0|\n",
      "|(8,[0,1,6,7],[1.7...|    0.0|\n",
      "|(8,[0,1,6,7],[2.0...|    0.0|\n",
      "|(8,[0,1,6,7],[2.9...|    1.0|\n",
      "|(8,[1,5,6,7],[2.2...|    0.0|\n",
      "|(8,[1,5,6,7],[3.0...|    0.0|\n",
      "|(8,[1,5,6,7],[3.6...|    0.0|\n",
      "|(8,[1,5,6,7],[3.7...|    1.0|\n",
      "|(8,[1,5,6,7],[4.4...|    1.0|\n",
      "|(8,[1,5,6,7],[5.2...|    1.0|\n",
      "|[0.0,2.0955431172...|    0.0|\n",
      "|[0.0,2.3144804578...|    0.0|\n",
      "|[0.0,2.4395875096...|    0.0|\n",
      "|[0.0,2.6272480873...|    0.0|\n",
      "|[0.0,2.6898016132...|    0.0|\n",
      "|[0.0,2.8461854279...|    0.0|\n",
      "|[0.0,2.8461854279...|    0.0|\n",
      "|[0.0,2.9087389538...|    0.0|\n",
      "+--------------------+-------+\n",
      "only showing top 20 rows\n",
      "\n"
     ]
    }
   ],
   "source": [
    "train.show()"
   ]
  },
  {
   "cell_type": "code",
   "execution_count": 126,
   "id": "9fcd25c8",
   "metadata": {},
   "outputs": [
    {
     "name": "stdout",
     "output_type": "stream",
     "text": [
      "+--------------------+-------+\n",
      "|     scaled_features|Outcome|\n",
      "+--------------------+-------+\n",
      "|(8,[1,5,6,7],[4.0...|    1.0|\n",
      "|(8,[1,5,6,7],[4.3...|    1.0|\n",
      "|(8,[1,5,6,7],[4.5...|    1.0|\n",
      "|(8,[1,6,7],[2.940...|    0.0|\n",
      "|[0.0,1.7827754878...|    0.0|\n",
      "|[0.0,2.6272480873...|    0.0|\n",
      "|[0.0,2.9087389538...|    0.0|\n",
      "|[0.0,2.9712924797...|    1.0|\n",
      "|[0.0,3.1589530573...|    0.0|\n",
      "|[0.0,3.1902298203...|    0.0|\n",
      "|[0.0,3.2527833462...|    0.0|\n",
      "|[0.0,3.2840601091...|    0.0|\n",
      "|[0.0,3.2840601091...|    1.0|\n",
      "|[0.0,3.3153368721...|    0.0|\n",
      "|[0.0,3.3466136350...|    1.0|\n",
      "|[0.0,3.5342742127...|    1.0|\n",
      "|[0.0,3.5342742127...|    0.0|\n",
      "|[0.0,3.5655509756...|    0.0|\n",
      "|[0.0,3.6593812644...|    0.0|\n",
      "|[0.0,3.6906580274...|    1.0|\n",
      "+--------------------+-------+\n",
      "only showing top 20 rows\n",
      "\n"
     ]
    }
   ],
   "source": [
    "test.show()"
   ]
  },
  {
   "cell_type": "markdown",
   "id": "fdefd0db",
   "metadata": {},
   "source": [
    "Logistic Regression"
   ]
  },
  {
   "cell_type": "code",
   "execution_count": 131,
   "id": "a7a81b62",
   "metadata": {},
   "outputs": [],
   "source": [
    "log_reg = LogisticRegression(labelCol = 'Outcome', featuresCol = 'scaled_features', maxIter = 40)\n",
    "model = log_reg.fit(train)"
   ]
  },
  {
   "cell_type": "code",
   "execution_count": 136,
   "id": "c736fec1",
   "metadata": {},
   "outputs": [],
   "source": [
    "prediction_test_log_reg = model.transform(test)"
   ]
  },
  {
   "cell_type": "code",
   "execution_count": 137,
   "id": "5a33da8d",
   "metadata": {},
   "outputs": [
    {
     "name": "stdout",
     "output_type": "stream",
     "text": [
      "+--------------------+-------+--------------------+--------------------+----------+\n",
      "|     scaled_features|Outcome|       rawPrediction|         probability|prediction|\n",
      "+--------------------+-------+--------------------+--------------------+----------+\n",
      "|(8,[1,5,6,7],[4.0...|    1.0|[-0.5959681143009...|[0.35526666646492...|       1.0|\n",
      "|(8,[1,5,6,7],[4.3...|    1.0|[-0.6755272474826...|[0.33726030458151...|       1.0|\n",
      "|(8,[1,5,6,7],[4.5...|    1.0|[-1.5241579745523...|[0.17885005236040...|       1.0|\n",
      "|(8,[1,6,7],[2.940...|    0.0|[5.03779244869133...|[0.99355376827183...|       0.0|\n",
      "|[0.0,1.7827754878...|    0.0|[4.83049445540611...|[0.99208064357935...|       0.0|\n",
      "|[0.0,2.6272480873...|    0.0|[2.92066231178300...|[0.94885844804270...|       0.0|\n",
      "|[0.0,2.9087389538...|    0.0|[2.95477108662740...|[0.95048849950547...|       0.0|\n",
      "|[0.0,2.9712924797...|    1.0|[2.39497080633475...|[0.91644299753529...|       0.0|\n",
      "|[0.0,3.1589530573...|    0.0|[3.41295661961563...|[0.96810701701975...|       0.0|\n",
      "|[0.0,3.1902298203...|    0.0|[5.23437514492161...|[0.99469810589488...|       0.0|\n",
      "|[0.0,3.2527833462...|    0.0|[3.49886790717874...|[0.97065554061458...|       0.0|\n",
      "|[0.0,3.2840601091...|    0.0|[1.56745949652801...|[0.82742113776352...|       0.0|\n",
      "|[0.0,3.2840601091...|    1.0|[2.49099055007989...|[0.92350780559458...|       0.0|\n",
      "|[0.0,3.3153368721...|    0.0|[1.53180902690142...|[0.82227084227312...|       0.0|\n",
      "|[0.0,3.3466136350...|    1.0|[1.43594037885893...|[0.80782520852166...|       0.0|\n",
      "|[0.0,3.5342742127...|    1.0|[1.92383799806683...|[0.87256580937525...|       0.0|\n",
      "|[0.0,3.5342742127...|    0.0|[1.73675816460376...|[0.85027482382967...|       0.0|\n",
      "|[0.0,3.5655509756...|    0.0|[1.42279975326454...|[0.80577695421193...|       0.0|\n",
      "|[0.0,3.6593812644...|    0.0|[0.79589082778424...|[0.68909480387442...|       0.0|\n",
      "|[0.0,3.6906580274...|    1.0|[0.72887094668969...|[0.67455746072207...|       0.0|\n",
      "+--------------------+-------+--------------------+--------------------+----------+\n",
      "only showing top 20 rows\n",
      "\n"
     ]
    }
   ],
   "source": [
    "prediction_test_log_reg.show()"
   ]
  },
  {
   "cell_type": "code",
   "execution_count": 138,
   "id": "7eac01b4",
   "metadata": {},
   "outputs": [
    {
     "name": "stdout",
     "output_type": "stream",
     "text": [
      "+-------+----------+\n",
      "|Outcome|prediction|\n",
      "+-------+----------+\n",
      "|    1.0|       1.0|\n",
      "|    1.0|       1.0|\n",
      "|    1.0|       1.0|\n",
      "|    0.0|       0.0|\n",
      "|    0.0|       0.0|\n",
      "|    0.0|       0.0|\n",
      "|    0.0|       0.0|\n",
      "|    1.0|       0.0|\n",
      "|    0.0|       0.0|\n",
      "|    0.0|       0.0|\n",
      "|    0.0|       0.0|\n",
      "|    0.0|       0.0|\n",
      "|    1.0|       0.0|\n",
      "|    0.0|       0.0|\n",
      "|    1.0|       0.0|\n",
      "+-------+----------+\n",
      "only showing top 15 rows\n",
      "\n"
     ]
    }
   ],
   "source": [
    "prediction_test_log_reg.select('Outcome', 'prediction').show(15)"
   ]
  },
  {
   "cell_type": "code",
   "execution_count": 140,
   "id": "ce43e8fa",
   "metadata": {},
   "outputs": [],
   "source": [
    "prediction_labels = prediction_test_log_reg.select('Outcome', 'prediction').rdd"
   ]
  },
  {
   "cell_type": "code",
   "execution_count": 147,
   "id": "3eb5962e",
   "metadata": {},
   "outputs": [
    {
     "data": {
      "text/plain": [
       "[Row(Outcome=1.0, prediction=1.0),\n",
       " Row(Outcome=1.0, prediction=1.0),\n",
       " Row(Outcome=1.0, prediction=1.0),\n",
       " Row(Outcome=0.0, prediction=0.0),\n",
       " Row(Outcome=0.0, prediction=0.0),\n",
       " Row(Outcome=0.0, prediction=0.0),\n",
       " Row(Outcome=0.0, prediction=0.0),\n",
       " Row(Outcome=1.0, prediction=0.0),\n",
       " Row(Outcome=0.0, prediction=0.0),\n",
       " Row(Outcome=0.0, prediction=0.0),\n",
       " Row(Outcome=0.0, prediction=0.0),\n",
       " Row(Outcome=0.0, prediction=0.0),\n",
       " Row(Outcome=1.0, prediction=0.0),\n",
       " Row(Outcome=0.0, prediction=0.0),\n",
       " Row(Outcome=1.0, prediction=0.0),\n",
       " Row(Outcome=1.0, prediction=0.0),\n",
       " Row(Outcome=0.0, prediction=0.0),\n",
       " Row(Outcome=0.0, prediction=0.0),\n",
       " Row(Outcome=0.0, prediction=0.0),\n",
       " Row(Outcome=1.0, prediction=0.0),\n",
       " Row(Outcome=0.0, prediction=0.0),\n",
       " Row(Outcome=0.0, prediction=0.0),\n",
       " Row(Outcome=1.0, prediction=0.0),\n",
       " Row(Outcome=1.0, prediction=0.0),\n",
       " Row(Outcome=0.0, prediction=0.0),\n",
       " Row(Outcome=1.0, prediction=0.0),\n",
       " Row(Outcome=1.0, prediction=0.0),\n",
       " Row(Outcome=1.0, prediction=1.0),\n",
       " Row(Outcome=1.0, prediction=0.0),\n",
       " Row(Outcome=0.0, prediction=0.0),\n",
       " Row(Outcome=1.0, prediction=1.0),\n",
       " Row(Outcome=0.0, prediction=1.0),\n",
       " Row(Outcome=0.0, prediction=1.0),\n",
       " Row(Outcome=0.0, prediction=1.0),\n",
       " Row(Outcome=0.0, prediction=1.0),\n",
       " Row(Outcome=1.0, prediction=1.0),\n",
       " Row(Outcome=1.0, prediction=1.0),\n",
       " Row(Outcome=1.0, prediction=1.0),\n",
       " Row(Outcome=1.0, prediction=1.0),\n",
       " Row(Outcome=0.0, prediction=0.0),\n",
       " Row(Outcome=0.0, prediction=0.0),\n",
       " Row(Outcome=0.0, prediction=0.0),\n",
       " Row(Outcome=0.0, prediction=0.0),\n",
       " Row(Outcome=0.0, prediction=0.0),\n",
       " Row(Outcome=0.0, prediction=0.0),\n",
       " Row(Outcome=1.0, prediction=0.0),\n",
       " Row(Outcome=0.0, prediction=0.0),\n",
       " Row(Outcome=0.0, prediction=0.0),\n",
       " Row(Outcome=0.0, prediction=0.0),\n",
       " Row(Outcome=0.0, prediction=0.0),\n",
       " Row(Outcome=0.0, prediction=0.0),\n",
       " Row(Outcome=0.0, prediction=0.0),\n",
       " Row(Outcome=0.0, prediction=0.0),\n",
       " Row(Outcome=0.0, prediction=0.0),\n",
       " Row(Outcome=0.0, prediction=0.0),\n",
       " Row(Outcome=0.0, prediction=0.0),\n",
       " Row(Outcome=0.0, prediction=0.0),\n",
       " Row(Outcome=1.0, prediction=0.0),\n",
       " Row(Outcome=0.0, prediction=0.0),\n",
       " Row(Outcome=0.0, prediction=0.0),\n",
       " Row(Outcome=1.0, prediction=0.0),\n",
       " Row(Outcome=1.0, prediction=0.0),\n",
       " Row(Outcome=1.0, prediction=0.0),\n",
       " Row(Outcome=1.0, prediction=0.0),\n",
       " Row(Outcome=0.0, prediction=0.0),\n",
       " Row(Outcome=0.0, prediction=0.0),\n",
       " Row(Outcome=0.0, prediction=0.0),\n",
       " Row(Outcome=0.0, prediction=0.0),\n",
       " Row(Outcome=1.0, prediction=1.0),\n",
       " Row(Outcome=1.0, prediction=0.0),\n",
       " Row(Outcome=0.0, prediction=1.0),\n",
       " Row(Outcome=1.0, prediction=0.0),\n",
       " Row(Outcome=1.0, prediction=1.0),\n",
       " Row(Outcome=1.0, prediction=1.0),\n",
       " Row(Outcome=0.0, prediction=1.0),\n",
       " Row(Outcome=1.0, prediction=1.0),\n",
       " Row(Outcome=0.0, prediction=0.0),\n",
       " Row(Outcome=0.0, prediction=0.0),\n",
       " Row(Outcome=0.0, prediction=0.0),\n",
       " Row(Outcome=0.0, prediction=0.0),\n",
       " Row(Outcome=0.0, prediction=0.0),\n",
       " Row(Outcome=0.0, prediction=0.0),\n",
       " Row(Outcome=0.0, prediction=0.0),\n",
       " Row(Outcome=0.0, prediction=0.0),\n",
       " Row(Outcome=0.0, prediction=0.0),\n",
       " Row(Outcome=0.0, prediction=0.0),\n",
       " Row(Outcome=0.0, prediction=0.0),\n",
       " Row(Outcome=0.0, prediction=0.0),\n",
       " Row(Outcome=0.0, prediction=0.0),\n",
       " Row(Outcome=1.0, prediction=0.0),\n",
       " Row(Outcome=0.0, prediction=0.0),\n",
       " Row(Outcome=0.0, prediction=0.0),\n",
       " Row(Outcome=0.0, prediction=0.0),\n",
       " Row(Outcome=0.0, prediction=0.0),\n",
       " Row(Outcome=0.0, prediction=0.0),\n",
       " Row(Outcome=0.0, prediction=0.0),\n",
       " Row(Outcome=0.0, prediction=0.0),\n",
       " Row(Outcome=0.0, prediction=0.0),\n",
       " Row(Outcome=0.0, prediction=0.0),\n",
       " Row(Outcome=1.0, prediction=0.0),\n",
       " Row(Outcome=0.0, prediction=0.0),\n",
       " Row(Outcome=0.0, prediction=0.0),\n",
       " Row(Outcome=0.0, prediction=0.0),\n",
       " Row(Outcome=1.0, prediction=0.0),\n",
       " Row(Outcome=0.0, prediction=0.0),\n",
       " Row(Outcome=0.0, prediction=0.0),\n",
       " Row(Outcome=0.0, prediction=0.0),\n",
       " Row(Outcome=1.0, prediction=1.0),\n",
       " Row(Outcome=1.0, prediction=1.0),\n",
       " Row(Outcome=0.0, prediction=0.0),\n",
       " Row(Outcome=0.0, prediction=0.0),\n",
       " Row(Outcome=0.0, prediction=0.0),\n",
       " Row(Outcome=0.0, prediction=0.0),\n",
       " Row(Outcome=0.0, prediction=0.0),\n",
       " Row(Outcome=0.0, prediction=0.0),\n",
       " Row(Outcome=0.0, prediction=0.0),\n",
       " Row(Outcome=0.0, prediction=0.0),\n",
       " Row(Outcome=0.0, prediction=0.0),\n",
       " Row(Outcome=0.0, prediction=0.0),\n",
       " Row(Outcome=0.0, prediction=0.0),\n",
       " Row(Outcome=1.0, prediction=0.0),\n",
       " Row(Outcome=0.0, prediction=0.0),\n",
       " Row(Outcome=1.0, prediction=0.0),\n",
       " Row(Outcome=0.0, prediction=0.0),\n",
       " Row(Outcome=1.0, prediction=0.0),\n",
       " Row(Outcome=0.0, prediction=0.0),\n",
       " Row(Outcome=0.0, prediction=1.0),\n",
       " Row(Outcome=0.0, prediction=0.0),\n",
       " Row(Outcome=0.0, prediction=0.0),\n",
       " Row(Outcome=0.0, prediction=0.0),\n",
       " Row(Outcome=0.0, prediction=0.0),\n",
       " Row(Outcome=0.0, prediction=0.0),\n",
       " Row(Outcome=0.0, prediction=0.0),\n",
       " Row(Outcome=0.0, prediction=0.0),\n",
       " Row(Outcome=0.0, prediction=0.0),\n",
       " Row(Outcome=1.0, prediction=0.0),\n",
       " Row(Outcome=0.0, prediction=0.0),\n",
       " Row(Outcome=0.0, prediction=0.0),\n",
       " Row(Outcome=1.0, prediction=0.0),\n",
       " Row(Outcome=0.0, prediction=0.0),\n",
       " Row(Outcome=1.0, prediction=0.0),\n",
       " Row(Outcome=1.0, prediction=1.0),\n",
       " Row(Outcome=0.0, prediction=0.0),\n",
       " Row(Outcome=0.0, prediction=1.0),\n",
       " Row(Outcome=1.0, prediction=1.0),\n",
       " Row(Outcome=0.0, prediction=1.0),\n",
       " Row(Outcome=0.0, prediction=0.0),\n",
       " Row(Outcome=0.0, prediction=0.0),\n",
       " Row(Outcome=0.0, prediction=0.0),\n",
       " Row(Outcome=1.0, prediction=0.0),\n",
       " Row(Outcome=0.0, prediction=0.0),\n",
       " Row(Outcome=0.0, prediction=0.0),\n",
       " Row(Outcome=1.0, prediction=0.0),\n",
       " Row(Outcome=0.0, prediction=0.0),\n",
       " Row(Outcome=0.0, prediction=0.0),\n",
       " Row(Outcome=1.0, prediction=0.0),\n",
       " Row(Outcome=0.0, prediction=0.0),\n",
       " Row(Outcome=0.0, prediction=0.0),\n",
       " Row(Outcome=1.0, prediction=0.0),\n",
       " Row(Outcome=1.0, prediction=1.0),\n",
       " Row(Outcome=0.0, prediction=0.0),\n",
       " Row(Outcome=0.0, prediction=0.0),\n",
       " Row(Outcome=1.0, prediction=1.0),\n",
       " Row(Outcome=0.0, prediction=0.0),\n",
       " Row(Outcome=0.0, prediction=1.0),\n",
       " Row(Outcome=1.0, prediction=0.0),\n",
       " Row(Outcome=0.0, prediction=1.0),\n",
       " Row(Outcome=1.0, prediction=1.0),\n",
       " Row(Outcome=1.0, prediction=1.0),\n",
       " Row(Outcome=1.0, prediction=0.0),\n",
       " Row(Outcome=0.0, prediction=0.0),\n",
       " Row(Outcome=0.0, prediction=0.0),\n",
       " Row(Outcome=0.0, prediction=0.0),\n",
       " Row(Outcome=0.0, prediction=0.0),\n",
       " Row(Outcome=0.0, prediction=0.0),\n",
       " Row(Outcome=0.0, prediction=0.0),\n",
       " Row(Outcome=1.0, prediction=0.0),\n",
       " Row(Outcome=0.0, prediction=0.0),\n",
       " Row(Outcome=0.0, prediction=0.0),\n",
       " Row(Outcome=1.0, prediction=0.0),\n",
       " Row(Outcome=0.0, prediction=0.0),\n",
       " Row(Outcome=1.0, prediction=0.0),\n",
       " Row(Outcome=1.0, prediction=1.0),\n",
       " Row(Outcome=1.0, prediction=1.0),\n",
       " Row(Outcome=0.0, prediction=1.0),\n",
       " Row(Outcome=1.0, prediction=1.0),\n",
       " Row(Outcome=1.0, prediction=1.0),\n",
       " Row(Outcome=1.0, prediction=1.0),\n",
       " Row(Outcome=1.0, prediction=0.0),\n",
       " Row(Outcome=0.0, prediction=0.0),\n",
       " Row(Outcome=1.0, prediction=0.0),\n",
       " Row(Outcome=1.0, prediction=0.0),\n",
       " Row(Outcome=1.0, prediction=0.0),\n",
       " Row(Outcome=0.0, prediction=0.0),\n",
       " Row(Outcome=0.0, prediction=0.0),\n",
       " Row(Outcome=0.0, prediction=1.0),\n",
       " Row(Outcome=1.0, prediction=0.0),\n",
       " Row(Outcome=0.0, prediction=1.0),\n",
       " Row(Outcome=1.0, prediction=1.0),\n",
       " Row(Outcome=1.0, prediction=1.0),\n",
       " Row(Outcome=0.0, prediction=1.0),\n",
       " Row(Outcome=1.0, prediction=1.0),\n",
       " Row(Outcome=1.0, prediction=1.0),\n",
       " Row(Outcome=1.0, prediction=1.0),\n",
       " Row(Outcome=1.0, prediction=1.0),\n",
       " Row(Outcome=1.0, prediction=0.0),\n",
       " Row(Outcome=0.0, prediction=0.0),\n",
       " Row(Outcome=0.0, prediction=0.0),\n",
       " Row(Outcome=0.0, prediction=0.0),\n",
       " Row(Outcome=0.0, prediction=0.0),\n",
       " Row(Outcome=1.0, prediction=1.0),\n",
       " Row(Outcome=1.0, prediction=0.0),\n",
       " Row(Outcome=1.0, prediction=0.0),\n",
       " Row(Outcome=0.0, prediction=1.0),\n",
       " Row(Outcome=1.0, prediction=1.0),\n",
       " Row(Outcome=1.0, prediction=1.0),\n",
       " Row(Outcome=1.0, prediction=1.0),\n",
       " Row(Outcome=1.0, prediction=1.0),\n",
       " Row(Outcome=1.0, prediction=1.0),\n",
       " Row(Outcome=0.0, prediction=0.0),\n",
       " Row(Outcome=0.0, prediction=0.0),\n",
       " Row(Outcome=1.0, prediction=0.0),\n",
       " Row(Outcome=1.0, prediction=0.0),\n",
       " Row(Outcome=0.0, prediction=0.0),\n",
       " Row(Outcome=0.0, prediction=0.0),\n",
       " Row(Outcome=0.0, prediction=1.0),\n",
       " Row(Outcome=1.0, prediction=0.0),\n",
       " Row(Outcome=0.0, prediction=1.0),\n",
       " Row(Outcome=0.0, prediction=1.0),\n",
       " Row(Outcome=1.0, prediction=1.0),\n",
       " Row(Outcome=0.0, prediction=0.0),\n",
       " Row(Outcome=1.0, prediction=1.0),\n",
       " Row(Outcome=0.0, prediction=1.0),\n",
       " Row(Outcome=1.0, prediction=1.0),\n",
       " Row(Outcome=1.0, prediction=0.0),\n",
       " Row(Outcome=1.0, prediction=1.0)]"
      ]
     },
     "execution_count": 147,
     "metadata": {},
     "output_type": "execute_result"
    }
   ],
   "source": [
    "prediction_labels.collect()"
   ]
  },
  {
   "cell_type": "code",
   "execution_count": 148,
   "id": "e7b1854a",
   "metadata": {},
   "outputs": [
    {
     "name": "stderr",
     "output_type": "stream",
     "text": [
      "C:\\Users\\gamsi\\anaconda3\\lib\\site-packages\\pyspark\\sql\\context.py:125: FutureWarning: Deprecated in 3.0.0. Use SparkSession.builder.getOrCreate() instead.\n",
      "  warnings.warn(\n"
     ]
    },
    {
     "name": "stdout",
     "output_type": "stream",
     "text": [
      "Area under ROC = 0.7007786429365962\n"
     ]
    }
   ],
   "source": [
    "metrics = BinaryClassificationMetrics(prediction_labels)\n",
    "print('Area under ROC = %s' % metrics.areaUnderROC)"
   ]
  },
  {
   "cell_type": "code",
   "execution_count": 149,
   "id": "84a1687f",
   "metadata": {},
   "outputs": [
    {
     "name": "stdout",
     "output_type": "stream",
     "text": [
      "Accuracy =  0.711864406779661\n"
     ]
    }
   ],
   "source": [
    "evaluator = MulticlassClassificationEvaluator(labelCol = 'Outcome', predictionCol = 'prediction', metricName = 'accuracy')\n",
    "accuracy_LR = evaluator.evaluate(prediction_test)\n",
    "print('Accuracy = ', accuracy_LR)"
   ]
  },
  {
   "cell_type": "markdown",
   "id": "a05b490e",
   "metadata": {},
   "source": [
    "Gradient Boost"
   ]
  },
  {
   "cell_type": "code",
   "execution_count": 150,
   "id": "51bd41b3",
   "metadata": {},
   "outputs": [],
   "source": [
    "gb_clf = GBTClassifier(labelCol = 'Outcome', featuresCol = 'scaled_features')"
   ]
  },
  {
   "cell_type": "code",
   "execution_count": 151,
   "id": "03f18812",
   "metadata": {},
   "outputs": [],
   "source": [
    "model = gb_clf.fit(train)"
   ]
  },
  {
   "cell_type": "code",
   "execution_count": 152,
   "id": "2c0455fd",
   "metadata": {},
   "outputs": [],
   "source": [
    "prediction_test_gb = model.transform(test)"
   ]
  },
  {
   "cell_type": "code",
   "execution_count": 153,
   "id": "8d40bd7d",
   "metadata": {},
   "outputs": [
    {
     "name": "stdout",
     "output_type": "stream",
     "text": [
      "+--------------------+-------+--------------------+--------------------+----------+\n",
      "|     scaled_features|Outcome|       rawPrediction|         probability|prediction|\n",
      "+--------------------+-------+--------------------+--------------------+----------+\n",
      "|(8,[1,5,6,7],[4.0...|    1.0|[0.49604578242862...|[0.72950084756614...|       0.0|\n",
      "|(8,[1,5,6,7],[4.3...|    1.0|[-0.1499047895267...|[0.42560403383118...|       1.0|\n",
      "|(8,[1,5,6,7],[4.5...|    1.0|[-0.5069952591068...|[0.26619962646524...|       1.0|\n",
      "|(8,[1,6,7],[2.940...|    0.0|[1.54632454612416...|[0.95658850688445...|       0.0|\n",
      "|[0.0,1.7827754878...|    0.0|[-0.4657815538001...|[0.28260770149330...|       1.0|\n",
      "|[0.0,2.6272480873...|    0.0|[1.02132385547847...|[0.88520260011588...|       0.0|\n",
      "|[0.0,2.9087389538...|    0.0|[1.59850478571742...|[0.96072158687273...|       0.0|\n",
      "|[0.0,2.9712924797...|    1.0|[1.59127532321922...|[0.96017232099541...|       0.0|\n",
      "|[0.0,3.1589530573...|    0.0|[1.59154470273746...|[0.96019291880693...|       0.0|\n",
      "|[0.0,3.1902298203...|    0.0|[1.58236781901092...|[0.95948543661561...|       0.0|\n",
      "|[0.0,3.2527833462...|    0.0|[1.46941644767780...|[0.94973303824367...|       0.0|\n",
      "|[0.0,3.2840601091...|    0.0|[1.24819448512449...|[0.92388828533735...|       0.0|\n",
      "|[0.0,3.2840601091...|    1.0|[-0.7750193103913...|[0.17508069019319...|       1.0|\n",
      "|[0.0,3.3153368721...|    0.0|[1.02152986495423...|[0.88524446240735...|       0.0|\n",
      "|[0.0,3.3466136350...|    1.0|[1.12496070982641...|[0.90464375670613...|       0.0|\n",
      "|[0.0,3.5342742127...|    1.0|[1.19060114828252...|[0.91538260742297...|       0.0|\n",
      "|[0.0,3.5342742127...|    0.0|[1.12991565240160...|[0.90549519617426...|       0.0|\n",
      "|[0.0,3.5655509756...|    0.0|[0.75243391588704...|[0.81829937398174...|       0.0|\n",
      "|[0.0,3.6593812644...|    0.0|[-0.2768225913517...|[0.36501911298344...|       1.0|\n",
      "|[0.0,3.6906580274...|    1.0|[-0.5082953980216...|[0.26569200388593...|       1.0|\n",
      "+--------------------+-------+--------------------+--------------------+----------+\n",
      "only showing top 20 rows\n",
      "\n"
     ]
    }
   ],
   "source": [
    "prediction_test_gb.show()"
   ]
  },
  {
   "cell_type": "code",
   "execution_count": 154,
   "id": "2ed32f25",
   "metadata": {},
   "outputs": [
    {
     "name": "stdout",
     "output_type": "stream",
     "text": [
      "+-------+----------+\n",
      "|Outcome|prediction|\n",
      "+-------+----------+\n",
      "|    1.0|       0.0|\n",
      "|    1.0|       1.0|\n",
      "|    1.0|       1.0|\n",
      "|    0.0|       0.0|\n",
      "|    0.0|       1.0|\n",
      "|    0.0|       0.0|\n",
      "|    0.0|       0.0|\n",
      "|    1.0|       0.0|\n",
      "|    0.0|       0.0|\n",
      "|    0.0|       0.0|\n",
      "|    0.0|       0.0|\n",
      "|    0.0|       0.0|\n",
      "|    1.0|       1.0|\n",
      "|    0.0|       0.0|\n",
      "|    1.0|       0.0|\n",
      "+-------+----------+\n",
      "only showing top 15 rows\n",
      "\n"
     ]
    }
   ],
   "source": [
    "prediction_test_gb.select('Outcome', 'prediction').show(15)"
   ]
  },
  {
   "cell_type": "code",
   "execution_count": 155,
   "id": "4142d596",
   "metadata": {},
   "outputs": [],
   "source": [
    "prediction_labels = prediction_test.select('Outcome', 'prediction').rdd"
   ]
  },
  {
   "cell_type": "code",
   "execution_count": 156,
   "id": "337f7967",
   "metadata": {},
   "outputs": [
    {
     "name": "stderr",
     "output_type": "stream",
     "text": [
      "C:\\Users\\gamsi\\anaconda3\\lib\\site-packages\\pyspark\\sql\\context.py:125: FutureWarning: Deprecated in 3.0.0. Use SparkSession.builder.getOrCreate() instead.\n",
      "  warnings.warn(\n"
     ]
    },
    {
     "name": "stdout",
     "output_type": "stream",
     "text": [
      "Area under ROC = 0.7007786429365962\n"
     ]
    }
   ],
   "source": [
    "metrics = BinaryClassificationMetrics(prediction_labels)\n",
    "print('Area under ROC = %s' % metrics.areaUnderROC)"
   ]
  },
  {
   "cell_type": "code",
   "execution_count": 159,
   "id": "965a69e0",
   "metadata": {},
   "outputs": [
    {
     "name": "stdout",
     "output_type": "stream",
     "text": [
      "Accuracy  0.6610169491525424\n"
     ]
    }
   ],
   "source": [
    "evaluator = MulticlassClassificationEvaluator(labelCol = 'Outcome', predictionCol = 'prediction', metricName = 'accuracy')\n",
    "accuracy_GBT = evaluator.evaluate(prediction_test_gb)\n",
    "print('Accuracy ', accuracy_GBT)"
   ]
  },
  {
   "cell_type": "markdown",
   "id": "568978dd",
   "metadata": {},
   "source": [
    "Naive Bayes"
   ]
  },
  {
   "cell_type": "code",
   "execution_count": 160,
   "id": "20838128",
   "metadata": {},
   "outputs": [],
   "source": [
    "naive_bayes = NaiveBayes(featuresCol = 'scaled_features', labelCol = 'Outcome', smoothing = 1.0)"
   ]
  },
  {
   "cell_type": "code",
   "execution_count": 161,
   "id": "0c3e8ec0",
   "metadata": {},
   "outputs": [],
   "source": [
    "model = naive_bayes.fit(train) "
   ]
  },
  {
   "cell_type": "code",
   "execution_count": 162,
   "id": "65aab9dd",
   "metadata": {},
   "outputs": [],
   "source": [
    "prediction_test_nb = model.transform(test)"
   ]
  },
  {
   "cell_type": "code",
   "execution_count": 163,
   "id": "d1a555dc",
   "metadata": {},
   "outputs": [
    {
     "name": "stdout",
     "output_type": "stream",
     "text": [
      "+--------------------+-------+--------------------+--------------------+----------+\n",
      "|     scaled_features|Outcome|       rawPrediction|         probability|prediction|\n",
      "+--------------------+-------+--------------------+--------------------+----------+\n",
      "|(8,[1,5,6,7],[4.0...|    1.0|[-21.723474825323...|[0.64723675932463...|       0.0|\n",
      "|(8,[1,5,6,7],[4.3...|    1.0|[-25.780138557954...|[0.62017108295523...|       0.0|\n",
      "|(8,[1,5,6,7],[4.5...|    1.0|[-26.253452790036...|[0.63532257554766...|       0.0|\n",
      "|(8,[1,6,7],[2.940...|    0.0|[-11.223506982693...|[0.62533187895436...|       0.0|\n",
      "|[0.0,1.7827754878...|    0.0|[-29.017479389648...|[0.75836133512652...|       0.0|\n",
      "|[0.0,2.6272480873...|    0.0|[-33.225548428520...|[0.76254303538341...|       0.0|\n",
      "|[0.0,2.9087389538...|    0.0|[-30.237888547788...|[0.72163005246824...|       0.0|\n",
      "|[0.0,2.9712924797...|    1.0|[-30.554813171244...|[0.77895193844511...|       0.0|\n",
      "|[0.0,3.1589530573...|    0.0|[-23.119943091638...|[0.74126457253940...|       0.0|\n",
      "|[0.0,3.1902298203...|    0.0|[-23.537021972722...|[0.73577206865951...|       0.0|\n",
      "|[0.0,3.2527833462...|    0.0|[-24.484094386825...|[0.73753442536332...|       0.0|\n",
      "|[0.0,3.2840601091...|    0.0|[-34.968671372171...|[0.73719183601500...|       0.0|\n",
      "|[0.0,3.2840601091...|    1.0|[-33.903188488503...|[0.76890030782781...|       0.0|\n",
      "|[0.0,3.3153368721...|    0.0|[-38.005188810748...|[0.72939292388939...|       0.0|\n",
      "|[0.0,3.3466136350...|    1.0|[-35.196272886200...|[0.72986020906662...|       0.0|\n",
      "|[0.0,3.5342742127...|    1.0|[-24.796938038743...|[0.74929005456165...|       0.0|\n",
      "|[0.0,3.5342742127...|    0.0|[-31.699203890569...|[0.75064091068181...|       0.0|\n",
      "|[0.0,3.5655509756...|    0.0|[-41.042382330327...|[0.71479489023766...|       0.0|\n",
      "|[0.0,3.6593812644...|    0.0|[-33.025816136407...|[0.77275311667547...|       0.0|\n",
      "|[0.0,3.6906580274...|    1.0|[-46.100282400451...|[0.73813821772658...|       0.0|\n",
      "+--------------------+-------+--------------------+--------------------+----------+\n",
      "only showing top 20 rows\n",
      "\n"
     ]
    }
   ],
   "source": [
    "prediction_test_nb.show()"
   ]
  },
  {
   "cell_type": "code",
   "execution_count": 164,
   "id": "673d5922",
   "metadata": {},
   "outputs": [
    {
     "name": "stdout",
     "output_type": "stream",
     "text": [
      "+-------+----------+\n",
      "|Outcome|prediction|\n",
      "+-------+----------+\n",
      "|    1.0|       0.0|\n",
      "|    1.0|       0.0|\n",
      "|    1.0|       0.0|\n",
      "|    0.0|       0.0|\n",
      "|    0.0|       0.0|\n",
      "|    0.0|       0.0|\n",
      "|    0.0|       0.0|\n",
      "|    1.0|       0.0|\n",
      "|    0.0|       0.0|\n",
      "|    0.0|       0.0|\n",
      "+-------+----------+\n",
      "only showing top 10 rows\n",
      "\n"
     ]
    }
   ],
   "source": [
    "prediction_test_nb.select('Outcome', 'prediction').show(10)"
   ]
  },
  {
   "cell_type": "code",
   "execution_count": 165,
   "id": "082afb19",
   "metadata": {},
   "outputs": [],
   "source": [
    "prediction_labels = prediction_test_nb.select(\"Outcome\",\"prediction\").rdd"
   ]
  },
  {
   "cell_type": "code",
   "execution_count": 166,
   "id": "2ad5dce3",
   "metadata": {},
   "outputs": [
    {
     "name": "stdout",
     "output_type": "stream",
     "text": [
      "Accuracy  0.6398305084745762\n"
     ]
    }
   ],
   "source": [
    "evaluator = MulticlassClassificationEvaluator(labelCol = 'Outcome', predictionCol = 'prediction', metricName = 'accuracy')\n",
    "accuracy_NB = evaluator.evaluate(prediction_test_nb)\n",
    "print('Accuracy ', accuracy_NB)"
   ]
  },
  {
   "cell_type": "code",
   "execution_count": 167,
   "id": "30c2ab47",
   "metadata": {},
   "outputs": [
    {
     "name": "stdout",
     "output_type": "stream",
     "text": [
      "Area under ROC = 0.7060695056289771\n"
     ]
    }
   ],
   "source": [
    "metrics = BinaryClassificationMetrics(prediction_labels)\n",
    "print(\"Area under ROC = %s\" % metrics.areaUnderROC)"
   ]
  },
  {
   "cell_type": "markdown",
   "id": "5b42830d",
   "metadata": {},
   "source": [
    "Random Forest Classifier"
   ]
  },
  {
   "cell_type": "code",
   "execution_count": 168,
   "id": "4704dfa3",
   "metadata": {},
   "outputs": [],
   "source": [
    "random_forest_classifier = RandomForestClassifier(labelCol = 'Outcome', featuresCol = 'scaled_features', numTrees = 40)"
   ]
  },
  {
   "cell_type": "code",
   "execution_count": 169,
   "id": "659cbd02",
   "metadata": {},
   "outputs": [],
   "source": [
    "model = random_forest_classifier.fit(train)"
   ]
  },
  {
   "cell_type": "code",
   "execution_count": 170,
   "id": "f79d0709",
   "metadata": {},
   "outputs": [],
   "source": [
    "prediction_test_rf = model.transform(test)"
   ]
  },
  {
   "cell_type": "code",
   "execution_count": 171,
   "id": "fa0183fd",
   "metadata": {},
   "outputs": [
    {
     "name": "stdout",
     "output_type": "stream",
     "text": [
      "+--------------------+-------+--------------------+--------------------+----------+\n",
      "|     scaled_features|Outcome|       rawPrediction|         probability|prediction|\n",
      "+--------------------+-------+--------------------+--------------------+----------+\n",
      "|(8,[1,5,6,7],[4.0...|    1.0|[19.0681334045313...|[0.47670333511328...|       1.0|\n",
      "|(8,[1,5,6,7],[4.3...|    1.0|[18.3820445652025...|[0.45955111413006...|       1.0|\n",
      "|(8,[1,5,6,7],[4.5...|    1.0|[18.0500676152413...|[0.45125169038103...|       1.0|\n",
      "|(8,[1,6,7],[2.940...|    0.0|[38.7049278787575...|[0.96762319696893...|       0.0|\n",
      "|[0.0,1.7827754878...|    0.0|[37.5459262882659...|[0.93864815720664...|       0.0|\n",
      "|[0.0,2.6272480873...|    0.0|[33.8587381329806...|[0.84646845332451...|       0.0|\n",
      "|[0.0,2.9087389538...|    0.0|[37.6224050114483...|[0.94056012528620...|       0.0|\n",
      "|[0.0,2.9712924797...|    1.0|[33.5983297111408...|[0.83995824277852...|       0.0|\n",
      "|[0.0,3.1589530573...|    0.0|[38.7551486293094...|[0.96887871573273...|       0.0|\n",
      "|[0.0,3.1902298203...|    0.0|[38.7551486293094...|[0.96887871573273...|       0.0|\n",
      "|[0.0,3.2527833462...|    0.0|[37.5370448886095...|[0.93842612221523...|       0.0|\n",
      "|[0.0,3.2840601091...|    0.0|[35.0107560711207...|[0.87526890177801...|       0.0|\n",
      "|[0.0,3.2840601091...|    1.0|[33.0733658953323...|[0.82683414738330...|       0.0|\n",
      "|[0.0,3.3153368721...|    0.0|[34.3345994996771...|[0.85836498749192...|       0.0|\n",
      "|[0.0,3.3466136350...|    1.0|[34.7841434565166...|[0.86960358641291...|       0.0|\n",
      "|[0.0,3.5342742127...|    1.0|[34.2963937181791...|[0.85740984295447...|       0.0|\n",
      "|[0.0,3.5342742127...|    0.0|[31.8573090131075...|[0.79643272532768...|       0.0|\n",
      "|[0.0,3.5655509756...|    0.0|[32.3158466320738...|[0.80789616580184...|       0.0|\n",
      "|[0.0,3.6593812644...|    0.0|[29.8796202708203...|[0.74699050677050...|       0.0|\n",
      "|[0.0,3.6906580274...|    1.0|[24.6208631347364...|[0.61552157836841...|       0.0|\n",
      "+--------------------+-------+--------------------+--------------------+----------+\n",
      "only showing top 20 rows\n",
      "\n"
     ]
    }
   ],
   "source": [
    "prediction_test_rf.show()"
   ]
  },
  {
   "cell_type": "code",
   "execution_count": 172,
   "id": "469665ee",
   "metadata": {},
   "outputs": [
    {
     "name": "stdout",
     "output_type": "stream",
     "text": [
      "+-------+----------+\n",
      "|Outcome|prediction|\n",
      "+-------+----------+\n",
      "|    1.0|       1.0|\n",
      "|    1.0|       1.0|\n",
      "|    1.0|       1.0|\n",
      "|    0.0|       0.0|\n",
      "|    0.0|       0.0|\n",
      "|    0.0|       0.0|\n",
      "|    0.0|       0.0|\n",
      "|    1.0|       0.0|\n",
      "|    0.0|       0.0|\n",
      "|    0.0|       0.0|\n",
      "|    0.0|       0.0|\n",
      "|    0.0|       0.0|\n",
      "|    1.0|       0.0|\n",
      "|    0.0|       0.0|\n",
      "|    1.0|       0.0|\n",
      "+-------+----------+\n",
      "only showing top 15 rows\n",
      "\n"
     ]
    }
   ],
   "source": [
    "prediction_test_rf.select('Outcome', 'prediction').show(15)"
   ]
  },
  {
   "cell_type": "code",
   "execution_count": 173,
   "id": "8f81c70b",
   "metadata": {},
   "outputs": [],
   "source": [
    "prediction_labels = prediction_test_rf.select('Outcome', 'prediction').rdd"
   ]
  },
  {
   "cell_type": "code",
   "execution_count": 174,
   "id": "7f46a04e",
   "metadata": {},
   "outputs": [
    {
     "name": "stdout",
     "output_type": "stream",
     "text": [
      "Area under ROC = 0.696953781512605\n"
     ]
    }
   ],
   "source": [
    "metrics = BinaryClassificationMetrics(prediction_labels)\n",
    "print('Area under ROC = %s' % metrics.areaUnderROC)"
   ]
  },
  {
   "cell_type": "code",
   "execution_count": 176,
   "id": "4b19aefb",
   "metadata": {},
   "outputs": [
    {
     "name": "stdout",
     "output_type": "stream",
     "text": [
      "Accuracy  0.711864406779661\n"
     ]
    }
   ],
   "source": [
    "evaluator = MulticlassClassificationEvaluator( labelCol = 'Outcome', predictionCol = 'prediction', metricName = 'accuracy')\n",
    "accuracy_RF = evaluator.evaluate(prediction_test_rf)\n",
    "print('Accuracy ', accuracy_RF)"
   ]
  },
  {
   "cell_type": "code",
   "execution_count": 178,
   "id": "6c3b92a9",
   "metadata": {},
   "outputs": [
    {
     "name": "stdout",
     "output_type": "stream",
     "text": [
      "Accuracy of Logistic Regression  0.711864406779661\n",
      "Accuracy of Gradeinr Boost  0.6610169491525424\n",
      "Accuracy of Naive Bayes  0.6398305084745762\n",
      "Accuracy of Random Forest  0.711864406779661\n"
     ]
    }
   ],
   "source": [
    "print('Accuracy of Logistic Regression ', accuracy_LR)\n",
    "print('Accuracy of Gradeinr Boost ', accuracy_GBT)\n",
    "print('Accuracy of Naive Bayes ', accuracy_NB)\n",
    "print('Accuracy of Random Forest ', accuracy_RF)"
   ]
  },
  {
   "cell_type": "code",
   "execution_count": null,
   "id": "ed22127d",
   "metadata": {},
   "outputs": [],
   "source": []
  }
 ],
 "metadata": {
  "kernelspec": {
   "display_name": "Python 3 (ipykernel)",
   "language": "python",
   "name": "python3"
  },
  "language_info": {
   "codemirror_mode": {
    "name": "ipython",
    "version": 3
   },
   "file_extension": ".py",
   "mimetype": "text/x-python",
   "name": "python",
   "nbconvert_exporter": "python",
   "pygments_lexer": "ipython3",
   "version": "3.9.7"
  }
 },
 "nbformat": 4,
 "nbformat_minor": 5
}
